{
 "cells": [
  {
   "cell_type": "code",
   "execution_count": 9,
   "id": "095d14de-3864-4b41-a5a0-d581bfb92c1a",
   "metadata": {},
   "outputs": [
    {
     "data": {
      "image/png": "[encoded data removed]",
      "text/plain": [
       "<Figure size 640x480 with 1 Axes>"
      ]
     },
     "metadata": {},
     "output_type": "display_data"
    },
    {
     "name": "stdout",
     "output_type": "stream",
     "text": [
      "For input [0 0] output is [0,0]\n",
      "For input [0 1] output is [0,1]\n",
      "For input [1 0] output is [0,1]\n",
      "For input [1 1] output is [1,0]\n"
     ]
    }
   ],
   "source": [
    "import numpy as np\n",
    "import matplotlib.pyplot as plt\n",
    "from sklearn.metrics import mean_squared_error\n",
    "\n",
    "x=np.array([[0,0],[0,1],[1,0],[1,1]])\n",
    "y=np.array([[1,0],[0,1],[0,1],[1,0]])\n",
    "nx=2\n",
    "nh=2\n",
    "ny=2\n",
    "lr=0.01\n",
    "n_epochs=10000\n",
    "\n",
    "w1=np.random.randn(nh,nx)\n",
    "w2=np.random.randn(nh,nh)\n",
    "w3=np.random.randn(ny,nh)\n",
    "\n",
    "def tanh(x):\n",
    "    return np.tanh(x)\n",
    "\n",
    "def tanh_derivative(x):\n",
    "    return 1 - np.tanh(x) ** 2\n",
    "\n",
    "def linear(x):\n",
    "    return x\n",
    "\n",
    "def linear_derivative(x):\n",
    "    return 1\n",
    "\n",
    "def fprop(w1,w2,w3,x):\n",
    "    z1=np.dot(x,w1.T)\n",
    "    a1=np.tanh(z1)\n",
    "    z2=np.dot(a1,w2.T)\n",
    "    a2=np.tanh(z2)\n",
    "    z3=np.dot(a2,w3.T)\n",
    "    a3=linear(z3)\n",
    "    return z1,a1,z2,a2,z3,a3\n",
    "\n",
    "def bprop(w1,w2,w3,z1,a1,z2,a2,z3,a3,y):\n",
    "    e3 = y - a3  # Error at output\n",
    "    del3 = linear_derivative(z3) * e3  # Output layer delta\n",
    "    e2 = np.dot(del3, w3)  # Summation(delk * wkj) for hidden layer\n",
    "    del2 = tanh_derivative(z2) * e2  # Hidden layer delta\n",
    "    e1 = np.dot(del2, w2)\n",
    "    del1 = tanh_derivative(z1) * e1\n",
    "    dw3=lr*np.dot(del3.T,a2)\n",
    "    dw2=lr*np.dot(del2.T,a1)\n",
    "    dw1=lr*np.dot(del1.T,x)\n",
    "    return dw3,dw2,dw1\n",
    "\n",
    "losses=[]\n",
    "for i in range(n_epochs):\n",
    "    z1,a1,z2,a2,z3,a3=fprop(w1,w2,w3,x)\n",
    "    loss=mean_squared_error(y,a3)\n",
    "    losses.append(loss)\n",
    "    dw3,dw2,dw1=bprop(w1,w2,w3,z1,a1,z2,a2,z3,a3,y)\n",
    "    w3+=dw3\n",
    "    w2+=dw2\n",
    "    w1+=dw1\n",
    "\n",
    "plt.plot(losses)\n",
    "plt.xlabel(\"Epochs\")\n",
    "plt.ylabel(\"Loss\")\n",
    "plt.title(\"Loss curve\")\n",
    "plt.show()\n",
    "\n",
    "def predict(w1,w2,w3,inp):\n",
    "    z1,a1,z2,a2,z3,a3=fprop(w1,w2,w3,inp)\n",
    "    if a3[0] >= 0.5 and a3[1] >= 0.5:\n",
    "        print(\"For input\",inp,\"output is [1,1]\")\n",
    "    elif a3[0] >= 0.5 and a3[1] < 0.5:\n",
    "        print(\"For input\",inp,\"output is [1,0]\")\n",
    "    elif a3[0] < 0.5 and a3[1] >= 0.5:\n",
    "        print(\"For input\",inp,\"output is [0,1]\")  \n",
    "    else:\n",
    "        print(\"For input\",inp,\"output is [0,0]\")\n",
    "\n",
    "\n",
    "test1=np.array([0,0])\n",
    "test2=np.array([0,1])\n",
    "test3=np.array([1,0])\n",
    "test4=np.array([1,1])\n",
    "\n",
    "predict(w1,w2,w3,test1)\n",
    "predict(w1,w2,w3,test2)\n",
    "predict(w1,w2,w3,test3)\n",
    "predict(w1,w2,w3,test4)"
   ]
  },
  {
   "cell_type": "code",
   "execution_count": null,
   "id": "92e1edc1-a10a-438d-8c46-7e0db74eba24",
   "metadata": {},
   "outputs": [],
   "source": []
  }
 ],
 "metadata": {
  "kernelspec": {
   "display_name": "Python [conda env:base] *",
   "language": "python",
   "name": "conda-base-py"
  },
  "language_info": {
   "codemirror_mode": {
    "name": "ipython",
    "version": 3
   },
   "file_extension": ".py",
   "mimetype": "text/x-python",
   "name": "python",
   "nbconvert_exporter": "python",
   "pygments_lexer": "ipython3",
   "version": "3.12.7"
  }
 },
 "nbformat": 4,
 "nbformat_minor": 5
}
